{
 "cells": [
  {
   "cell_type": "code",
   "execution_count": 109,
   "id": "35027de9-77d4-4741-8e3b-ff26dd561b0b",
   "metadata": {},
   "outputs": [],
   "source": [
    "game_list=[0,1,2]"
   ]
  },
  {
   "cell_type": "code",
   "execution_count": 111,
   "id": "4af35724-b1aa-40d1-873a-cd99c2a5e75b",
   "metadata": {},
   "outputs": [],
   "source": [
    "def display_game(game_list):\n",
    "    print(\"here is the current list: \")\n",
    "    print(game_list)"
   ]
  },
  {
   "cell_type": "code",
   "execution_count": 113,
   "id": "39c7e5e9-4787-44af-9eb7-7a89e1627e90",
   "metadata": {},
   "outputs": [
    {
     "name": "stdout",
     "output_type": "stream",
     "text": [
      "here is the current list: \n",
      "[0, 1, 2]\n"
     ]
    }
   ],
   "source": [
    "display_game(game_list)"
   ]
  },
  {
   "cell_type": "code",
   "execution_count": 115,
   "id": "22a02db7-934c-42c9-aa29-8c819af7253c",
   "metadata": {},
   "outputs": [],
   "source": [
    "def position_choice():\n",
    "    choice='wrong'\n",
    "    while choice not in ['0','1','2']:\n",
    "        choice=input(\"pick a position (0,1,2): \")\n",
    "        if choice not in ['0','1','2']:\n",
    "            print(\"sorry ,invaliud choice! \")\n",
    "    return int(choice)"
   ]
  },
  {
   "cell_type": "code",
   "execution_count": 117,
   "id": "636dc741-911d-4aeb-96c4-37beb67977d2",
   "metadata": {},
   "outputs": [
    {
     "name": "stdin",
     "output_type": "stream",
     "text": [
      "pick a position (0,1,2):  0\n"
     ]
    },
    {
     "data": {
      "text/plain": [
       "0"
      ]
     },
     "execution_count": 117,
     "metadata": {},
     "output_type": "execute_result"
    }
   ],
   "source": [
    "position_choice()"
   ]
  },
  {
   "cell_type": "code",
   "execution_count": 119,
   "id": "9f1fd80e-51d6-41da-8fd7-f3977285e841",
   "metadata": {},
   "outputs": [],
   "source": [
    "def replacement_choice(game_list,position):\n",
    "    user_placement=input(\"type a string at a position: \")\n",
    "    game_list[position]=user_placement\n",
    "    return game_list"
   ]
  },
  {
   "cell_type": "code",
   "execution_count": 121,
   "id": "17f95cb3-3dcf-4939-a121-b677e860bd69",
   "metadata": {},
   "outputs": [
    {
     "name": "stdin",
     "output_type": "stream",
     "text": [
      "type a string at a position:  2\n"
     ]
    },
    {
     "data": {
      "text/plain": [
       "[0, '2', 2]"
      ]
     },
     "execution_count": 121,
     "metadata": {},
     "output_type": "execute_result"
    }
   ],
   "source": [
    "replacement_choice(game_list,1)"
   ]
  },
  {
   "cell_type": "code",
   "execution_count": 123,
   "id": "3cb0f657-305c-4729-8cac-85ddb7f85e8d",
   "metadata": {},
   "outputs": [],
   "source": [
    "def gameon_choice():\n",
    "    choice='wrong'\n",
    "    while choice not in ['Y','N']:\n",
    "        choice=input(\"keep playing?(Y or N): \")\n",
    "        if choice not in ['Y','N']:\n",
    "            print(\"sorry i dont understand please choose Y or N \")\n",
    "    if choice=='Y':\n",
    "        return True\n",
    "    else:\n",
    "        return False\n",
    "    "
   ]
  },
  {
   "cell_type": "code",
   "execution_count": 127,
   "id": "4eecf2e3-e4d0-457e-bcc9-3949dbac70ec",
   "metadata": {},
   "outputs": [
    {
     "name": "stdin",
     "output_type": "stream",
     "text": [
      "keep playing?(Y or N):  Y\n"
     ]
    },
    {
     "data": {
      "text/plain": [
       "True"
      ]
     },
     "execution_count": 127,
     "metadata": {},
     "output_type": "execute_result"
    }
   ],
   "source": [
    "gameon_choice()"
   ]
  },
  {
   "cell_type": "code",
   "execution_count": 131,
   "id": "7ca43ded-1cde-4319-b39c-9cd787f6ad18",
   "metadata": {},
   "outputs": [
    {
     "name": "stdout",
     "output_type": "stream",
     "text": [
      "here is the current list: \n",
      "[0, 1, 2]\n"
     ]
    },
    {
     "name": "stdin",
     "output_type": "stream",
     "text": [
      "pick a position (0,1,2):  1\n",
      "type a string at a position:  2\n"
     ]
    },
    {
     "name": "stdout",
     "output_type": "stream",
     "text": [
      "here is the current list: \n",
      "[0, '2', 2]\n"
     ]
    },
    {
     "name": "stdin",
     "output_type": "stream",
     "text": [
      "keep playing?(Y or N):  N\n"
     ]
    }
   ],
   "source": [
    "game_on=True\n",
    "game_list=[0,1,2]\n",
    "while game_on:\n",
    "    display_game(game_list)\n",
    "    position=position_choice()\n",
    "    game_llist=replacement_choice(game_list,position)\n",
    "    display_game(game_list)\n",
    "    game_on=gameon_choice()"
   ]
  },
  {
   "cell_type": "code",
   "execution_count": 3,
   "id": "701b8aab-3a82-48ea-b5fb-7785ee1146b3",
   "metadata": {},
   "outputs": [],
   "source": [
    "#STEP 1-printing board\n",
    "#board representation 3 by 3\n",
    "from IPython.display import clear_output\n",
    "def display_board(board):\n",
    "    clear_output()\n",
    "    print('   |   |')\n",
    "    print(' ' + board[7] + ' | ' + board[8] + ' | ' + board[9])\n",
    "    print('   |   |')\n",
    "    print('-----------')\n",
    "    print(' ' + board[4] + ' | ' + board[5] + ' | ' + board[6])\n",
    "    print('   |   |')\n",
    "    print('-----------')\n",
    "    print(' ' + board[1] + ' | ' + board[2] + ' | ' + board[3])\n",
    "    print('   |   |')"
   ]
  },
  {
   "cell_type": "code",
   "execution_count": 7,
   "id": "400c0af2-4f83-4f72-b9d6-490f5ca9c866",
   "metadata": {},
   "outputs": [
    {
     "name": "stdout",
     "output_type": "stream",
     "text": [
      "   |   |\n",
      " X | O | X\n",
      "   |   |\n",
      "-----------\n",
      " O | X | O\n",
      "   |   |\n",
      "-----------\n",
      " X | O | X\n",
      "   |   |\n"
     ]
    }
   ],
   "source": [
    "test_board=['#','X','O','X','O','X','O','X','O','X']\n",
    "#clear output first displays one set of xox and hen clears anotherone because we wrote two times of displayboard here\n",
    "display_board(test_board)\n",
    "display_board(test_board)"
   ]
  },
  {
   "cell_type": "code",
   "execution_count": 11,
   "id": "4e0aa59c-7485-4fcd-8f84-e03a054194f2",
   "metadata": {},
   "outputs": [],
   "source": [
    "#STEP2\n",
    "#taking player input\n",
    "def player_input():\n",
    "    '''\n",
    "    output=(player 1 marker,player 2 marker)\n",
    "    '''\n",
    "    marker= ''\n",
    "    \n",
    "    while  (marker != 'X' or marker != 'O'):\n",
    "        marker=input('player1: choose X or O: ').upper() \n",
    "        #incase they choose lowercase letters\n",
    "    if marker=='X':\n",
    "        return('X','O')\n",
    "    else:\n",
    "        return('O','X') \n",
    "   "
   ]
  },
  {
   "cell_type": "code",
   "execution_count": 13,
   "id": "d2f28e23-a375-42e1-aced-96a7082d19dd",
   "metadata": {},
   "outputs": [],
   "source": [
    "def place_marker(board,marker,position):\n",
    "    board[position]=marker"
   ]
  },
  {
   "cell_type": "code",
   "execution_count": 15,
   "id": "19ef95b6-55d6-4475-828a-1f855dc4bfaf",
   "metadata": {},
   "outputs": [
    {
     "data": {
      "text/plain": [
       "['#', 'X', 'O', 'X', 'O', 'X', 'O', 'X', 'O', 'X']"
      ]
     },
     "execution_count": 15,
     "metadata": {},
     "output_type": "execute_result"
    }
   ],
   "source": [
    "test_board"
   ]
  },
  {
   "cell_type": "code",
   "execution_count": 17,
   "id": "169a88a9-5ece-4564-beec-799517c6c379",
   "metadata": {},
   "outputs": [
    {
     "name": "stdout",
     "output_type": "stream",
     "text": [
      "   |   |\n",
      " X | $ | X\n",
      "   |   |\n",
      "-----------\n",
      " O | X | O\n",
      "   |   |\n",
      "-----------\n",
      " X | O | X\n",
      "   |   |\n"
     ]
    }
   ],
   "source": [
    "place_marker(test_board,'$',8)\n",
    "display_board(test_board)"
   ]
  },
  {
   "cell_type": "code",
   "execution_count": 19,
   "id": "e99e6fb4-3de1-458e-b99b-54954542eb98",
   "metadata": {},
   "outputs": [],
   "source": [
    "#ckecks win or not\n",
    "def win_check(board,mark):\n",
    "    return ((board[7]==mark and board[8]==mark and board[9]==mark) or\n",
    "    (board[4]==mark and board[5]==mark and board[6]==mark) or\n",
    "    (board[1]==mark and board[2]==mark and board[3]==mark) or\n",
    "    (board[7]==mark and board[4]==mark and board[1]==mark) or\n",
    "    (board[8]==mark and board[5]==mark and board[2]==mark) or\n",
    "    (board[9]==mark and board[6]==mark and board[3]==mark) or\n",
    "    (board[7]==mark and board[5]==mark and board[3]==mark) or\n",
    "    (board[9]==mark and board[5]==mark and board[1]==mark)) "
   ]
  },
  {
   "cell_type": "code",
   "execution_count": 21,
   "id": "d18d50a0-9853-4370-a31a-fd7f1b900cc9",
   "metadata": {},
   "outputs": [
    {
     "name": "stdout",
     "output_type": "stream",
     "text": [
      "   |   |\n",
      " X | $ | X\n",
      "   |   |\n",
      "-----------\n",
      " O | X | O\n",
      "   |   |\n",
      "-----------\n",
      " X | O | X\n",
      "   |   |\n"
     ]
    },
    {
     "data": {
      "text/plain": [
       "True"
      ]
     },
     "execution_count": 21,
     "metadata": {},
     "output_type": "execute_result"
    }
   ],
   "source": [
    "display_board(test_board)\n",
    "win_check(test_board,'X')"
   ]
  },
  {
   "cell_type": "code",
   "execution_count": 23,
   "id": "546c9274-0622-402b-bd87-1f6154061ea6",
   "metadata": {},
   "outputs": [],
   "source": [
    "#randomly decide who is going to win\n",
    "import random\n",
    "def choose_first():\n",
    "    flip=random.randint(0,1)\n",
    "    if flip==0:\n",
    "        return 'Player 1'\n",
    "    else:\n",
    "        return 'player 2'\n"
   ]
  },
  {
   "cell_type": "code",
   "execution_count": 25,
   "id": "b48e872c-99f5-4d97-ab8f-38b4b43d1ec9",
   "metadata": {},
   "outputs": [],
   "source": [
    "#check wheather the space in board is avilable or not\n",
    "def space_check(board,positio):\n",
    "    return board[position]==' '"
   ]
  },
  {
   "cell_type": "code",
   "execution_count": 27,
   "id": "17ef9b23-8f9b-4e87-8010-e77c62c30d48",
   "metadata": {},
   "outputs": [],
   "source": [
    "def full_board_check(board):\n",
    "    for i in range(1,10):\n",
    "        #cause 9 t0 10\n",
    "        if space_check(board,i):\n",
    "            return False\n",
    "            #baord is full if return true\n",
    "        return True"
   ]
  },
  {
   "cell_type": "code",
   "execution_count": 29,
   "id": "3f58d71a-cc95-4452-ba6b-6fae9c06c9c2",
   "metadata": {},
   "outputs": [],
   "source": [
    "def player_choice(board):\n",
    "    position=0\n",
    "    while position not in [1,2,3,4,5,6,7,8,9] or  not space_Check(board,position):\n",
    "        position=int(input('check a position: (1-9) '))\n",
    "    return position"
   ]
  },
  {
   "cell_type": "code",
   "execution_count": 31,
   "id": "cf096913-7c95-461b-a0b4-e78d753cc5fc",
   "metadata": {},
   "outputs": [],
   "source": [
    "#asks if they want to play agian\n",
    "def replay():\n",
    "    choice=input(\"play again?enter Yes or No\")\n",
    "    return choice==\"Yes\""
   ]
  },
  {
   "cell_type": "code",
   "execution_count": null,
   "id": "b3ddc0a7-6d9f-4c96-a48c-a2c90faeec4a",
   "metadata": {},
   "outputs": [
    {
     "name": "stdout",
     "output_type": "stream",
     "text": [
      "welcome to TIC TAC TOE\n"
     ]
    },
    {
     "name": "stdin",
     "output_type": "stream",
     "text": [
      "player1: choose X or O:  X\n",
      "player1: choose X or O:  o\n"
     ]
    }
   ],
   "source": [
    "#whlle loop to keep running the game\n",
    "print('welcome to TIC TAC TOE')\n",
    "while True:\n",
    "    #play the game\n",
    "    #set everything up(board,whos first,choose marker x,o)\n",
    "    the_board=[' ']*10\n",
    "    player1_marker,player2_marker=player_input()\n",
    "    turn=choose_first()\n",
    "    print(turn + ' will go first')\n",
    "    play_game=input('ready to play?y or n?')\n",
    "    if play_game=='y':\n",
    "        game_on=True\n",
    "    else:\n",
    "        game_on= False\n",
    "    while game_on:\n",
    "        if turn=='player 1':\n",
    "            display_board(the_board)\n",
    "            position=player_choice(the_board)\n",
    "            #choose a position\n",
    "#place the marker on the position\n",
    "            place_marker(the_board, player1_marker,position)\n",
    "            \n",
    "#check if they won\n",
    "            if win_check(the_board,player1_marker):\n",
    "                display_board(the_board)\n",
    "                print('PLAYER 1 HAS WON!!')\n",
    "                game_on=False\n",
    "            else:\n",
    "                if full_board_check(the_board):\n",
    "                    display_board(the_board)\n",
    "                    print(\"TIE GAME\")\n",
    "                    game_on=False\n",
    "                else:\n",
    "                    turn='player 2'\n",
    "        else:\n",
    "             display_board(the_board)\n",
    "             position=player_choice(the_board)\n",
    "            #choose a position\n",
    "#place the marker on the position\n",
    "             place_marker(the_board, player2_marker,position)\n",
    "            \n",
    "#check if they won\n",
    "             if win_check(the_board,player2_marker):\n",
    "                  display_board(the_board)\n",
    "                  print('PLAYER 2 HAS WON!!')\n",
    "                  game_on=False\n",
    "             else:\n",
    "                 if full_board_check(the_board):\n",
    "                     display_board(the_board)\n",
    "                     print(\"TIE GAME\")\n",
    "                     game_on=False\n",
    "\n",
    "                 else:\n",
    "                     turn='player 1'\n",
    "    if not replay():\n",
    "        break\n",
    "#or check if there is tie\n",
    "#no tie or win\n",
    "\n",
    "             "
   ]
  },
  {
   "cell_type": "code",
   "execution_count": null,
   "id": "fcb8ee29-bf0b-4dc1-aecd-09ecb42474a8",
   "metadata": {},
   "outputs": [],
   "source": []
  },
  {
   "cell_type": "code",
   "execution_count": null,
   "id": "6cefb056-5f91-4a3c-a947-91e630950194",
   "metadata": {},
   "outputs": [],
   "source": []
  },
  {
   "cell_type": "code",
   "execution_count": null,
   "id": "96b8cc3e-6f7c-4649-8479-3cdbd9c9b213",
   "metadata": {},
   "outputs": [],
   "source": []
  }
 ],
 "metadata": {
  "kernelspec": {
   "display_name": "Python 3 (ipykernel)",
   "language": "python",
   "name": "python3"
  },
  "language_info": {
   "codemirror_mode": {
    "name": "ipython",
    "version": 3
   },
   "file_extension": ".py",
   "mimetype": "text/x-python",
   "name": "python",
   "nbconvert_exporter": "python",
   "pygments_lexer": "ipython3",
   "version": "3.12.4"
  }
 },
 "nbformat": 4,
 "nbformat_minor": 5
}
